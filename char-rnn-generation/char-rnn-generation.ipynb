{
 "cells": [
  {
   "cell_type": "markdown",
   "metadata": {},
   "source": [
    "![](https://i.imgur.com/eBRPvWB.png)\n",
    "\n",
    "# Practical PyTorch: Generating Shakespeare with a Character-Level RNN\n",
    "\n",
    "[In the RNN classification tutorial](https://github.com/spro/practical-pytorch/blob/master/char-rnn-classification/char-rnn-classification.ipynb) we used a RNN to classify text one character at a time. This time we'll generate text one character at a time.\n",
    "\n",
    "```\n",
    "> python generate.py -n 500\n",
    "\n",
    "PAOLTREDN:\n",
    "Let, yil exter shis owrach we so sain, fleas,\n",
    "Be wast the shall deas, puty sonse my sheete.\n",
    "\n",
    "BAUFIO:\n",
    "Sirh carrow out with the knonuot my comest sifard queences\n",
    "O all a man unterd.\n",
    "\n",
    "PROMENSJO:\n",
    "Ay, I to Heron, I sack, againous; bepear, Butch,\n",
    "An as shalp will of that seal think.\n",
    "\n",
    "NUKINUS:\n",
    "And house it to thee word off hee:\n",
    "And thou charrota the son hange of that shall denthand\n",
    "For the say hor you are of I folles muth me?\n",
    "```\n",
    "\n",
    "This one might make you question the series title &mdash; \"is that really practical?\" However, these sorts of generative models form the basis of machine translation, image captioning, question answering and more. See the [Sequence to Sequence Translation tutorial](https://github.com/spro/practical-pytorch/blob/master/seq2seq-translation/seq2seq-translation.ipynb) for more on that topic."
   ]
  },
  {
   "cell_type": "markdown",
   "metadata": {},
   "source": [
    "# Recommended Reading\n",
    "\n",
    "I assume you have at least installed PyTorch, know Python, and understand Tensors:\n",
    "\n",
    "* http://pytorch.org/ For installation instructions\n",
    "* [Deep Learning with PyTorch: A 60-minute Blitz](https://github.com/pytorch/tutorials/blob/master/Deep%20Learning%20with%20PyTorch.ipynb) to get started with PyTorch in general\n",
    "* [jcjohnson's PyTorch examples](https://github.com/jcjohnson/pytorch-examples) for an in depth overview\n",
    "* [Introduction to PyTorch for former Torchies](https://github.com/pytorch/tutorials/blob/master/Introduction%20to%20PyTorch%20for%20former%20Torchies.ipynb) if you are former Lua Torch user\n",
    "\n",
    "It would also be useful to know about RNNs and how they work:\n",
    "\n",
    "* [The Unreasonable Effectiveness of Recurrent Neural Networks](http://karpathy.github.io/2015/05/21/rnn-effectiveness/) shows a bunch of real life examples\n",
    "* [Understanding LSTM Networks](http://colah.github.io/posts/2015-08-Understanding-LSTMs/) is about LSTMs specifically but also informative about RNNs in general\n",
    "\n",
    "Also see these related tutorials from the series:\n",
    "\n",
    "* [Classifying Names with a Character-Level RNN](https://github.com/spro/practical-pytorch/blob/master/char-rnn-classification/char-rnn-classification.ipynb) uses an RNN for classification\n",
    "* [Generating Names with a Conditional Character-Level RNN](https://github.com/spro/practical-pytorch/blob/master/conditional-char-rnn-generation/conditional-char-rnn-generation.ipynb) builds on this model to add a category as input"
   ]
  },
  {
   "cell_type": "markdown",
   "metadata": {},
   "source": [
    "# Prepare data\n",
    "\n",
    "Split into trainable chunks of 110 characters each. The first 10 characters will always be used as context, and the model will try to predict the next 100. There is no special consideration for where a chunk starts (it could be smart to e.g. always start on a newline)."
   ]
  },
  {
   "cell_type": "code",
   "execution_count": 1,
   "metadata": {
    "collapsed": false
   },
   "outputs": [],
   "source": [
    "import unicodedata\n",
    "import string\n",
    "import random\n",
    "import re\n",
    "\n",
    "all_characters = string.printable\n",
    "n_characters = len(all_characters)\n",
    "\n",
    "# Turn Unicode to plain ASCII, thanks to http://stackoverflow.com/a/518232/2809427\n",
    "def unicodeToAscii(s):\n",
    "    return ''.join(\n",
    "        c for c in unicodedata.normalize('NFD', s)\n",
    "        if unicodedata.category(c) != 'Mn'\n",
    "        and c in all_characters\n",
    "    )\n",
    "\n",
    "file = unicodeToAscii(open('../data/shakespeare.txt').read())\n",
    "file_len = len(file)"
   ]
  },
  {
   "cell_type": "code",
   "execution_count": 2,
   "metadata": {
    "collapsed": false
   },
   "outputs": [
    {
     "name": "stdout",
     "output_type": "stream",
     "text": [
      "e cap your worship did bespeak.\n",
      "\n",
      "PETRUCHIO:\n",
      "Why, this was moulded on a porringer;\n",
      "A velvet dish: fie, fie! 'tis lewd and filthy:\n",
      "Why, 'tis a cockle or a walnut-shell,\n",
      "A knack, a toy, a trick, a baby's \n"
     ]
    }
   ],
   "source": [
    "chunk_len = 200\n",
    "\n",
    "def random_chunk():\n",
    "    start_index = random.randint(0, file_len - chunk_len)\n",
    "    end_index = start_index + chunk_len + 1\n",
    "    return file[start_index:end_index]\n",
    "\n",
    "print(random_chunk())"
   ]
  },
  {
   "cell_type": "code",
   "execution_count": 3,
   "metadata": {
    "collapsed": false
   },
   "outputs": [],
   "source": [
    "# Turn string into set of of one-hot vectors\n",
    "def make_input(string):\n",
    "    tensor = torch.zeros(len(string), n_characters)\n",
    "    for c in range(len(string)):\n",
    "        i = all_characters.index(string[c])\n",
    "        tensor[c][i] = 1\n",
    "    return Variable(tensor)\n",
    "\n",
    "# Turn string into list of longs\n",
    "def make_target(string):\n",
    "    tensor = torch.zeros(len(string)).long()\n",
    "    for c in range(len(string)):\n",
    "        i = all_characters.index(string[c])\n",
    "        tensor[c] = i\n",
    "    return Variable(tensor)"
   ]
  },
  {
   "cell_type": "code",
   "execution_count": 4,
   "metadata": {
    "collapsed": true
   },
   "outputs": [],
   "source": [
    "def random_training_set():    \n",
    "    chunk = random_chunk()\n",
    "    inp = make_input(chunk[:-1])\n",
    "    target = make_target(chunk[1:])\n",
    "    return inp, target"
   ]
  },
  {
   "cell_type": "markdown",
   "metadata": {},
   "source": [
    "# Build the Model\n",
    "\n",
    "This is a simple RNN with layers that encode to a smaller GRU, then decode back out"
   ]
  },
  {
   "cell_type": "code",
   "execution_count": 5,
   "metadata": {
    "collapsed": false
   },
   "outputs": [],
   "source": [
    "import torch\n",
    "import torch.nn as nn\n",
    "from torch.autograd import Variable\n",
    "\n",
    "class RNN(nn.Module):\n",
    "    def __init__(self, input_size, hidden_size, output_size, n_layers=1):\n",
    "        super(RNN, self).__init__()\n",
    "        self.input_size = input_size\n",
    "        self.hidden_size = hidden_size\n",
    "        self.output_size = output_size\n",
    "        self.n_layers = n_layers\n",
    "        \n",
    "        self.encoder = nn.Linear(input_size, hidden_size)\n",
    "        self.gru = nn.GRU(hidden_size, hidden_size, n_layers)\n",
    "        self.decoder = nn.Linear(hidden_size, output_size)\n",
    "    \n",
    "    def forward(self, input, hidden):\n",
    "        input = self.encoder(input.view(1, -1))\n",
    "        output, hidden = self.gru(input.view(1, 1, -1), hidden)\n",
    "        output = self.decoder(output.view(1, -1))\n",
    "        return output, hidden\n",
    "\n",
    "    def init_hidden(self):\n",
    "        return Variable(torch.zeros(self.n_layers, 1, self.hidden_size))"
   ]
  },
  {
   "cell_type": "code",
   "execution_count": 6,
   "metadata": {
    "collapsed": false
   },
   "outputs": [],
   "source": [
    "def evaluate(prime_str='A', predict_len=100, temperature=0.8):\n",
    "    hidden = decoder.init_hidden()\n",
    "    prime_input = make_input(prime_str)\n",
    "    predicted = prime_str\n",
    "\n",
    "    # Use priming string to \"build up\" hidden state\n",
    "    for p in range(len(prime_str) - 1):\n",
    "        _, hidden = decoder(prime_input[p], hidden)\n",
    "        \n",
    "    inp = prime_input[-1]\n",
    "    \n",
    "    for p in range(predict_len):\n",
    "        output, hidden = decoder(inp, hidden)\n",
    "        \n",
    "        # Sample from the network as a multinomial distribution\n",
    "        output_dist = output.data.view(-1).div(temperature).exp()\n",
    "        top_i = torch.multinomial(output_dist, 1)[0]\n",
    "        \n",
    "        # Add predicted character to string and use as next input\n",
    "        predicted_char = all_characters[top_i]\n",
    "        predicted += predicted_char\n",
    "        inp = make_input(predicted_char)\n",
    "\n",
    "    return predicted"
   ]
  },
  {
   "cell_type": "code",
   "execution_count": 7,
   "metadata": {
    "collapsed": true
   },
   "outputs": [],
   "source": [
    "import time\n",
    "import math\n",
    "\n",
    "def time_since(since):\n",
    "    now = time.time()\n",
    "    s = now - since\n",
    "    m = math.floor(s / 60)\n",
    "    s -= m * 60\n",
    "    return '%dm %ds' % (m, s)"
   ]
  },
  {
   "cell_type": "code",
   "execution_count": 8,
   "metadata": {
    "collapsed": false,
    "scrolled": false
   },
   "outputs": [
    {
     "name": "stdout",
     "output_type": "stream",
     "text": [
      "0m 46s (100 5%) 3.3622\n",
      "--> Wh ate aW pnrWsgmi uihto ti tl thov y ou\n",
      " oe to  ah n ttathi c  trnmThe\n",
      " e tlae e  M tttltpo  d  s n e \n",
      "<--\n",
      "\n",
      "1m 32s (200 10%) 2.5020\n",
      "--> Wh erte es il ke a fay ey hounk, rane uoir aitd yit hhor fet iou rose ton teh leh heh irpe hof thon wo \n",
      "<--\n",
      "\n",
      "2m 17s (300 15%) 2.5799\n",
      "--> What tars serob'cd os som asdce,\n",
      "\n",
      "RIY IRENRTDNY:\n",
      "Tol; hacte ane coms co ale if he,\n",
      "\n",
      "ICEOTRKEN:\n",
      "\n",
      "IN:\n",
      "\n",
      "K \n",
      "<--\n",
      "\n",
      "3m 3s (400 20%) 2.3707\n",
      "--> Whab fhushs sone sreo he angake\n",
      "Toor ansem.\n",
      "Hef bitlen sere case bou res shangalt ho af theve hive,\n",
      "Th \n",
      "<--\n",
      "\n",
      "3m 49s (500 25%) 2.4492\n",
      "--> Whod antE ontt teld ontt farlite odid pusgleef\n",
      "Horde the gorlst I har,\n",
      "Yor yamo taols!\n",
      " hame badren th \n",
      "<--\n",
      "\n",
      "4m 35s (600 30%) 2.3445\n",
      "--> Whrit there yy\n",
      "Were pratirl ancing the shat bere in liou-Lome\n",
      "\n",
      "OCECLICA:\n",
      "A nath you\n",
      "Whace karddire anc \n",
      "<--\n",
      "\n",
      "5m 22s (700 35%) 2.2857\n",
      "--> What so me lot moun thear woos seer to fond, wonle sored!\n",
      "\n",
      "ITAS:\n",
      "And heas's here nicpome bash, tho mad \n",
      "<--\n",
      "\n",
      "6m 9s (800 40%) 2.1228\n",
      "--> Whill to sull in wor bere\n",
      "And and we aPen thes the ol howy kelh ale only to the to ince\n",
      "Ner! be the's  \n",
      "<--\n",
      "\n",
      "6m 57s (900 45%) 2.1539\n",
      "--> Whowgiad sade sen suilh,\n",
      "The me a bour\n",
      "Mou breamtt youst weendelh end ine the mithone to deant\n",
      "Row Dan \n",
      "<--\n",
      "\n",
      "7m 44s (1000 50%) 2.1280\n",
      "--> Whe she us; and shing thou the tung I mold.\n",
      "\n",
      "ISALARINEUS:\n",
      "So mave belld end you thee daed to his. I sa \n",
      "<--\n",
      "\n",
      "8m 30s (1100 55%) 2.1966\n",
      "--> Whind,\n",
      "And he whor whe bame bats, and he yo the the may.\n",
      "\n",
      "GUCICET:\n",
      "Suct so, my lhord dlemeras,\n",
      "As ha;  \n",
      "<--\n",
      "\n",
      "9m 17s (1200 60%) 2.0717\n",
      "--> Wherter and deighink, wherise Weret a mell agk we fo\n",
      "Wis she thied that as ungatale it dome my greaghe \n",
      "<--\n",
      "\n",
      "10m 4s (1300 65%) 2.0765\n",
      "--> Wheart what be noegt deant.\n",
      "\n",
      "TACKUNTIO:\n",
      "So mince suint with te getert.\n",
      "\n",
      "BRAUCEO:\n",
      "Bouns of that shath a \n",
      "<--\n",
      "\n",
      "10m 50s (1400 70%) 2.0779\n",
      "--> Whers tlron lull coy are of Morden,\n",
      "And Morginsint onl dicen, unimes Bor cons now world from why:\n",
      "Mesc \n",
      "<--\n",
      "\n",
      "11m 35s (1500 75%) 2.0451\n",
      "--> Wheress in bering.\n",
      "\n",
      "AmLOUS:\n",
      "How in haze lighy, wheresgelar the fation, beink so,\n",
      "Histre, Lrard now, in \n",
      "<--\n",
      "\n",
      "12m 22s (1600 80%) 2.0706\n",
      "--> Wherd's incend boring this inte detsed\n",
      "Thou mother's a torsed with mised from Lorrd hear be and I meen \n",
      "<--\n",
      "\n",
      "13m 8s (1700 85%) 2.1481\n",
      "--> What and to porty,\n",
      "Undobe stered and the sor or thing the lands\n",
      "The peppoty, for for read me wut his w \n",
      "<--\n",
      "\n",
      "13m 55s (1800 90%) 1.9449\n",
      "--> Whake, the warg wory your\n",
      "That trick ismacle but the wo the hommps,\n",
      "I sjards yast and wath seop will a \n",
      "<--\n",
      "\n",
      "14m 40s (1900 95%) 1.9322\n",
      "--> When here forrond, and wime.\n",
      "\n",
      "LUKE:\n",
      "Mesto the king beont, vencestent the loogter\n",
      "The it stise for bell \n",
      "<--\n",
      "\n",
      "15m 26s (2000 100%) 2.0025\n",
      "--> When it he hest boncent\n",
      "wand ri, Goven for woufpeapnep,\n",
      "And mow you will, a cood theys on he mang,\n",
      "\n",
      "AR \n",
      "<--\n",
      "\n"
     ]
    }
   ],
   "source": [
    "n_epochs = 2000\n",
    "print_every = 100\n",
    "plot_every = 50\n",
    "hidden_size = 50\n",
    "n_layers = 2\n",
    "lr = 0.005\n",
    "\n",
    "decoder = RNN(n_characters, hidden_size, n_characters, n_layers)\n",
    "decoder_optimizer = torch.optim.Adam(decoder.parameters(), lr=lr)\n",
    "criterion = nn.CrossEntropyLoss()\n",
    "\n",
    "start = time.time()\n",
    "all_losses = []\n",
    "loss_avg = 0\n",
    "\n",
    "def train(inp, target):\n",
    "    hidden = decoder.init_hidden()\n",
    "    decoder.zero_grad()\n",
    "    loss = 0\n",
    "\n",
    "    # Read predictions\n",
    "    for c in range(chunk_len):\n",
    "        output, hidden = decoder(inp[c], hidden)\n",
    "        loss += criterion(output.view(-1), target[c])\n",
    "\n",
    "    loss.backward()\n",
    "    decoder_optimizer.step()\n",
    "\n",
    "    return loss.data[0] / chunk_len\n",
    "        \n",
    "for epoch in range(1, n_epochs + 1):\n",
    "    loss = train(*random_training_set())       \n",
    "    loss_avg += loss\n",
    "    \n",
    "    if epoch % print_every == 0:\n",
    "        print('%s (%d %d%%) %.4f' % (time_since(start), epoch, epoch / n_epochs * 100, loss))\n",
    "        print('-->', evaluate('Wh', 100), '\\n<--\\n')\n",
    "\n",
    "    if epoch % plot_every == 0:\n",
    "        all_losses.append(loss_avg / plot_every)\n",
    "        loss_avg = 0"
   ]
  },
  {
   "cell_type": "markdown",
   "metadata": {},
   "source": [
    "# Plotting the Network\n",
    "\n",
    "Plotting the historical loss from all_losses shows the network learning:"
   ]
  },
  {
   "cell_type": "code",
   "execution_count": 9,
   "metadata": {
    "collapsed": false
   },
   "outputs": [
    {
     "data": {
      "text/plain": [
       "[<matplotlib.lines.Line2D at 0x111189898>]"
      ]
     },
     "execution_count": 9,
     "metadata": {},
     "output_type": "execute_result"
    },
    {
     "data": {
      "image/png": "[encoded data removed]",
      "text/plain": [
       "<matplotlib.figure.Figure at 0x106c4b630>"
      ]
     },
     "metadata": {},
     "output_type": "display_data"
    }
   ],
   "source": [
    "import matplotlib.pyplot as plt\n",
    "import matplotlib.ticker as ticker\n",
    "%matplotlib inline\n",
    "\n",
    "plt.figure()\n",
    "plt.plot(all_losses)"
   ]
  },
  {
   "cell_type": "code",
   "execution_count": 10,
   "metadata": {
    "collapsed": false
   },
   "outputs": [
    {
     "name": "stdout",
     "output_type": "stream",
     "text": [
      "Thandyen he theser for the more\n",
      "I the kins vering the be ar.\n",
      "\n",
      "CELUETEL:\n",
      "Nor this dud see the will so fare of age uigher\n",
      "Thou Sather the not and so the hove his como.\n",
      "\n",
      "CEMEMENMOUS:\n",
      "There, the wand lenleing!d were bind,\n",
      "What and the blase ceane gcand,\n",
      "In she tame will this wad, what a date.\n",
      "\n",
      "GMLIOLAS:\n",
      "In have stremand hant of to you to!\n",
      "\n",
      "LORWISO:\n",
      "The goovers sucmt think blaes wear lear\n",
      "To the waint, than to so thy is my ade entaneds.\n",
      "\n",
      "CAMILENTEN:\n",
      "Caystol, in as you be you of but, dive failite the,\n",
      "I\n"
     ]
    }
   ],
   "source": [
    "print(evaluate('Th', 500, temperature=0.8))"
   ]
  },
  {
   "cell_type": "code",
   "execution_count": null,
   "metadata": {
    "collapsed": true
   },
   "outputs": [],
   "source": []
  }
 ],
 "metadata": {
  "anaconda-cloud": {},
  "kernelspec": {
   "display_name": "Python [conda root]",
   "language": "python",
   "name": "conda-root-py"
  },
  "language_info": {
   "codemirror_mode": {
    "name": "ipython",
    "version": 3
   },
   "file_extension": ".py",
   "mimetype": "text/x-python",
   "name": "python",
   "nbconvert_exporter": "python",
   "pygments_lexer": "ipython3",
   "version": "3.5.2"
  }
 },
 "nbformat": 4,
 "nbformat_minor": 1
}
