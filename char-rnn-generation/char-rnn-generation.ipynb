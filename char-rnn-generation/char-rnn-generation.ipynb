{
 "cells": [
  {
   "cell_type": "markdown",
   "metadata": {},
   "source": [
    "![](https://i.imgur.com/eBRPvWB.png)\n",
    "\n",
    "# Practical PyTorch: Generating Shakespeare with a Character-Level RNN\n",
    "\n",
    "[In the RNN classification tutorial](https://github.com/spro/practical-pytorch/blob/master/char-rnn-classification/char-rnn-classification.ipynb) we used a RNN to classify text one character at a time. This time we'll generate text one character at a time.\n",
    "\n",
    "```\n",
    "> python generate.py -n 500\n",
    "\n",
    "PAOLTREDN:\n",
    "Let, yil exter shis owrach we so sain, fleas,\n",
    "Be wast the shall deas, puty sonse my sheete.\n",
    "\n",
    "BAUFIO:\n",
    "Sirh carrow out with the knonuot my comest sifard queences\n",
    "O all a man unterd.\n",
    "\n",
    "PROMENSJO:\n",
    "Ay, I to Heron, I sack, againous; bepear, Butch,\n",
    "An as shalp will of that seal think.\n",
    "\n",
    "NUKINUS:\n",
    "And house it to thee word off hee:\n",
    "And thou charrota the son hange of that shall denthand\n",
    "For the say hor you are of I folles muth me?\n",
    "```\n",
    "\n",
    "This one might make you question the series title &mdash; \"is that really practical?\" However, these sorts of generative models form the basis of machine translation, image captioning, question answering and more. See the [Sequence to Sequence Translation tutorial](https://github.com/spro/practical-pytorch/blob/master/seq2seq-translation/seq2seq-translation.ipynb) for more on that topic."
   ]
  },
  {
   "cell_type": "markdown",
   "metadata": {},
   "source": [
    "# Recommended Reading\n",
    "\n",
    "I assume you have at least installed PyTorch, know Python, and understand Tensors:\n",
    "\n",
    "* http://pytorch.org/ For installation instructions\n",
    "* [Deep Learning with PyTorch: A 60-minute Blitz](https://github.com/pytorch/tutorials/blob/master/Deep%20Learning%20with%20PyTorch.ipynb) to get started with PyTorch in general\n",
    "* [jcjohnson's PyTorch examples](https://github.com/jcjohnson/pytorch-examples) for an in depth overview\n",
    "* [Introduction to PyTorch for former Torchies](https://github.com/pytorch/tutorials/blob/master/Introduction%20to%20PyTorch%20for%20former%20Torchies.ipynb) if you are former Lua Torch user\n",
    "\n",
    "It would also be useful to know about RNNs and how they work:\n",
    "\n",
    "* [The Unreasonable Effectiveness of Recurrent Neural Networks](http://karpathy.github.io/2015/05/21/rnn-effectiveness/) shows a bunch of real life examples\n",
    "* [Understanding LSTM Networks](http://colah.github.io/posts/2015-08-Understanding-LSTMs/) is about LSTMs specifically but also informative about RNNs in general\n",
    "\n",
    "Also see these related tutorials from the series:\n",
    "\n",
    "* [Classifying Names with a Character-Level RNN](https://github.com/spro/practical-pytorch/blob/master/char-rnn-classification/char-rnn-classification.ipynb) uses an RNN for classification\n",
    "* [Generating Names with a Conditional Character-Level RNN](https://github.com/spro/practical-pytorch/blob/master/conditional-char-rnn-generation/conditional-char-rnn-generation.ipynb) builds on this model to add a category as input"
   ]
  },
  {
   "cell_type": "markdown",
   "metadata": {},
   "source": [
    "# Prepare data"
   ]
  },
  {
   "cell_type": "code",
   "execution_count": 1,
   "metadata": {
    "collapsed": false
   },
   "outputs": [],
   "source": [
    "import unidecode\n",
    "import string\n",
    "import random\n",
    "import re\n",
    "\n",
    "all_characters = string.printable\n",
    "n_characters = len(all_characters)\n",
    "\n",
    "file = unidecode.unidecode(open('../data/shakespeare.txt').read())\n",
    "file_len = len(file)"
   ]
  },
  {
   "cell_type": "code",
   "execution_count": 2,
   "metadata": {
    "collapsed": false
   },
   "outputs": [
    {
     "name": "stdout",
     "output_type": "stream",
     "text": [
      " that counsel, to give forth\n",
      "The corn o' the storehouse gratis, as 'twas used\n",
      "Sometime in Greece,--\n",
      "\n",
      "MENENIUS:\n",
      "Well, well, no more of that.\n",
      "\n",
      "CORIOLANUS:\n",
      "Though there the people had more absolute power,\n"
     ]
    }
   ],
   "source": [
    "chunk_len = 200\n",
    "\n",
    "def random_chunk():\n",
    "    start_index = random.randint(0, file_len - chunk_len)\n",
    "    end_index = start_index + chunk_len + 1\n",
    "    return file[start_index:end_index]\n",
    "\n",
    "print(random_chunk())"
   ]
  },
  {
   "cell_type": "code",
   "execution_count": 3,
   "metadata": {
    "collapsed": false
   },
   "outputs": [],
   "source": [
    "# Turn string into list of longs\n",
    "def char_tensor(string):\n",
    "    tensor = torch.zeros(len(string)).long()\n",
    "    for c in range(len(string)):\n",
    "        tensor[c] = all_characters.index(string[c])\n",
    "    return Variable(tensor)"
   ]
  },
  {
   "cell_type": "code",
   "execution_count": 4,
   "metadata": {
    "collapsed": true
   },
   "outputs": [],
   "source": [
    "def random_training_set():    \n",
    "    chunk = random_chunk()\n",
    "    inp = char_tensor(chunk[:-1])\n",
    "    target = char_tensor(chunk[1:])\n",
    "    return inp, target"
   ]
  },
  {
   "cell_type": "markdown",
   "metadata": {},
   "source": [
    "# Build the Model\n",
    "\n",
    "This model will take as input the character for step $t_{-1}$ and is expected to output the next character $t$. There are three layers - one linear layer that encodes the input character into an internal state, one GRU layer (which may itself have multiple layers) that operates on that internal state and a hidden state, and a decoder layer that outputs the probability distribution."
   ]
  },
  {
   "cell_type": "code",
   "execution_count": 5,
   "metadata": {
    "collapsed": false
   },
   "outputs": [],
   "source": [
    "import torch\n",
    "import torch.nn as nn\n",
    "from torch.autograd import Variable\n",
    "\n",
    "class RNN(nn.Module):\n",
    "    def __init__(self, input_size, hidden_size, output_size, n_layers=1):\n",
    "        super(RNN, self).__init__()\n",
    "        self.input_size = input_size\n",
    "        self.hidden_size = hidden_size\n",
    "        self.output_size = output_size\n",
    "        self.n_layers = n_layers\n",
    "        \n",
    "        self.encoder = nn.Embedding(input_size, hidden_size)\n",
    "        self.gru = nn.GRU(hidden_size, hidden_size, n_layers)\n",
    "        self.decoder = nn.Linear(hidden_size, output_size)\n",
    "    \n",
    "    def forward(self, input, hidden):\n",
    "        input = self.encoder(input.view(1, -1))\n",
    "        output, hidden = self.gru(input.view(1, 1, -1), hidden)\n",
    "        output = self.decoder(output.view(1, -1))\n",
    "        return output, hidden\n",
    "\n",
    "    def init_hidden(self):\n",
    "        return Variable(torch.zeros(self.n_layers, 1, self.hidden_size))"
   ]
  },
  {
   "cell_type": "markdown",
   "metadata": {},
   "source": [
    "# Evaluating"
   ]
  },
  {
   "cell_type": "code",
   "execution_count": 6,
   "metadata": {
    "collapsed": false
   },
   "outputs": [],
   "source": [
    "def evaluate(prime_str='A', predict_len=100, temperature=0.8):\n",
    "    hidden = decoder.init_hidden()\n",
    "    prime_input = char_tensor(prime_str)\n",
    "    predicted = prime_str\n",
    "\n",
    "    # Use priming string to \"build up\" hidden state\n",
    "    for p in range(len(prime_str) - 1):\n",
    "        _, hidden = decoder(prime_input[p], hidden)\n",
    "    inp = prime_input[-1]\n",
    "    \n",
    "    for p in range(predict_len):\n",
    "        output, hidden = decoder(inp, hidden)\n",
    "        \n",
    "        # Sample from the network as a multinomial distribution\n",
    "        output_dist = output.data.view(-1).div(temperature).exp()\n",
    "        top_i = torch.multinomial(output_dist, 1)[0]\n",
    "        \n",
    "        # Add predicted character to string and use as next input\n",
    "        predicted_char = all_characters[top_i]\n",
    "        predicted += predicted_char\n",
    "        inp = char_tensor(predicted_char)\n",
    "\n",
    "    return predicted"
   ]
  },
  {
   "cell_type": "markdown",
   "metadata": {},
   "source": [
    "# Training"
   ]
  },
  {
   "cell_type": "markdown",
   "metadata": {},
   "source": [
    "A helper to print the amount of time passed:"
   ]
  },
  {
   "cell_type": "code",
   "execution_count": 7,
   "metadata": {
    "collapsed": true
   },
   "outputs": [],
   "source": [
    "import time, math\n",
    "\n",
    "def time_since(since):\n",
    "    now = time.time()\n",
    "    s = now - since\n",
    "    m = math.floor(s / 60)\n",
    "    s -= m * 60\n",
    "    return '%dm %ds' % (m, s)"
   ]
  },
  {
   "cell_type": "markdown",
   "metadata": {},
   "source": [
    "Then we define the training parameters, instantiate the model, and start training:"
   ]
  },
  {
   "cell_type": "code",
   "execution_count": 8,
   "metadata": {
    "collapsed": false,
    "scrolled": false
   },
   "outputs": [
    {
     "name": "stdout",
     "output_type": "stream",
     "text": [
      "[0m 32s (100 5%) 2.3376]\n",
      "Whothe\n",
      "You ther peam thabe me prear you to no the seee bear.\n",
      "\n",
      "CEOSTRO:\n",
      "Mo inme m thans to mer theese m \n",
      "\n",
      "[1m 8s (200 10%) 2.0789]\n",
      "Which in por mak my your is doobe as davesatle rey you mowrever, thered ip thrat ferrvath, tor pry pse \n",
      "\n",
      "[1m 44s (300 15%) 2.5924]\n",
      "Whion.\n",
      "\n",
      "RORD:\n",
      "Will fortoy itt if derest, say of my sites withers, of mime,\n",
      "I I a I sirs, in in, way, t \n",
      "\n",
      "[2m 15s (400 20%) 2.1664]\n",
      "What do man my--\n",
      "All main,\n",
      "Doy him be lows,\n",
      "As jome, the the stell shall dompice fuld what day;\n",
      "Wice i \n",
      "\n",
      "[2m 47s (500 25%) 1.8986]\n",
      "Whall ad 'ting my weath bed ble talrecie\n",
      "Geo in tall the the bive with ditius! Mild sere and of in unc \n",
      "\n",
      "[3m 19s (600 30%) 2.0964]\n",
      "Whendere, a ence comer bet cuter my\n",
      "That this the quater men snotence,\n",
      "The manie sut it swo this kinds \n",
      "\n",
      "[3m 51s (700 35%) 2.0402]\n",
      "Whe that to, that to to our fatless paresture\n",
      "Crove and the, shall that ince to me watherused\n",
      "To the t \n",
      "\n",
      "[4m 23s (800 40%) 1.8453]\n",
      "Whent, here a wrom on them?\n",
      "Mive thwy lord, be for thounes in thee will, hims; whan I hand;\n",
      "No of\n",
      "What \n",
      "\n",
      "[4m 54s (900 45%) 2.1005]\n",
      "Whoune the take tath moul, what\n",
      "Ed of of what haftick it of of that thou son vow\n",
      "Bet ext soul to mare  \n",
      "\n",
      "[5m 25s (1000 50%) 2.0393]\n",
      "Whe shall of I\n",
      "hen of should have I cay of whake my gay\n",
      "Houng black his I crus loong you frous forms o \n",
      "\n",
      "[5m 57s (1100 55%) 1.9841]\n",
      "Wher and all:\n",
      "fold, you to of my him,\n",
      "An that Dight the porsardy: if to pead,\n",
      "As of and and minds Roma \n",
      "\n",
      "[6m 29s (1200 60%) 2.1540]\n",
      "Whely Bord of Sawn\n",
      "Sirk; BiRICHARD I hy devaun I win woohe met her begen me Lord neser\n",
      "The be shall no \n",
      "\n",
      "[7m 0s (1300 65%) 2.2149]\n",
      "Whall cradses,\n",
      "Bods fews, wend wells of therefe accrim him then, my vaind and his haves\n",
      "The be sellist \n",
      "\n",
      "[7m 31s (1400 70%) 1.8836]\n",
      "Whowrtht brewage it me him then be that rasteid the the eyse mandy am the this more me my goull,\n",
      "Sar t \n",
      "\n",
      "[8m 3s (1500 75%) 1.9345]\n",
      "Whe to-mably here: I father,\n",
      "For so steecatee, be the lord,\n",
      "Miy should shery, spaling God,\n",
      "That sworse \n",
      "\n",
      "[8m 34s (1600 80%) 2.1232]\n",
      "Wht 'telciend.\n",
      "\n",
      "CLADULIT:\n",
      "Pish mourd may you hap sor me fathratancies son\n",
      "That conts, yes her it mantc \n",
      "\n",
      "[9m 4s (1700 85%) 1.9017]\n",
      "Whis in of so and inctio.\n",
      "\n",
      "CAMILLO:\n",
      "I hand to shough of the gifent's noth on hou dould had bears\n",
      "The b \n",
      "\n",
      "[9m 35s (1800 90%) 1.9797]\n",
      "Who morcher'd from my and caulk,\n",
      "Thou grow vake ding, geard, from. I hear, from his\n",
      "elling\n",
      "Nor my am f \n",
      "\n",
      "[10m 6s (1900 95%) 1.7700]\n",
      "Wheirnd you gour to not. HI ace, of our the do a to lookn\n",
      "Wes own I af a lerve eventled good bort,\n",
      "Yor \n",
      "\n",
      "[10m 37s (2000 100%) 2.0142]\n",
      "Whare the thou shoud heave,\n",
      "And where comt will he with not world our lorch an the you?\n",
      "\n",
      "GRINCESD:\n",
      "Whe \n",
      "\n"
     ]
    }
   ],
   "source": [
    "n_epochs = 2000\n",
    "print_every = 100\n",
    "plot_every = 10\n",
    "hidden_size = 100\n",
    "n_layers = 2\n",
    "lr = 0.01\n",
    "\n",
    "decoder = RNN(n_characters, hidden_size, n_characters, n_layers)\n",
    "decoder_optimizer = torch.optim.Adam(decoder.parameters(), lr=lr)\n",
    "criterion = nn.CrossEntropyLoss()\n",
    "\n",
    "start = time.time()\n",
    "all_losses = []\n",
    "loss_avg = 0\n",
    "\n",
    "def train(inp, target):\n",
    "    hidden = decoder.init_hidden()\n",
    "    decoder.zero_grad()\n",
    "    loss = 0\n",
    "\n",
    "    for c in range(chunk_len):\n",
    "        output, hidden = decoder(inp[c], hidden)\n",
    "        loss += criterion(output.view(-1), target[c])\n",
    "\n",
    "    loss.backward()\n",
    "    decoder_optimizer.step()\n",
    "\n",
    "    return loss.data[0] / chunk_len\n",
    "        \n",
    "for epoch in range(1, n_epochs + 1):\n",
    "    loss = train(*random_training_set())       \n",
    "    loss_avg += loss\n",
    "    \n",
    "    if epoch % print_every == 0:\n",
    "        print('[%s (%d %d%%) %.4f]' % (time_since(start), epoch, epoch / n_epochs * 100, loss))\n",
    "        print(evaluate('Wh', 100), '\\n')\n",
    "\n",
    "    if epoch % plot_every == 0:\n",
    "        all_losses.append(loss_avg / plot_every)\n",
    "        loss_avg = 0"
   ]
  },
  {
   "cell_type": "markdown",
   "metadata": {},
   "source": [
    "# Plotting the Network\n",
    "\n",
    "Plotting the historical loss from all_losses shows the network learning:"
   ]
  },
  {
   "cell_type": "code",
   "execution_count": 9,
   "metadata": {
    "collapsed": false
   },
   "outputs": [
    {
     "data": {
      "text/plain": [
       "[<matplotlib.lines.Line2D at 0x1109a57f0>]"
      ]
     },
     "execution_count": 9,
     "metadata": {},
     "output_type": "execute_result"
    },
    {
     "data": {
      "image/png": "[encoded data removed]",
      "text/plain": [
       "<matplotlib.figure.Figure at 0x10d0222e8>"
      ]
     },
     "metadata": {},
     "output_type": "display_data"
    }
   ],
   "source": [
    "import matplotlib.pyplot as plt\n",
    "import matplotlib.ticker as ticker\n",
    "%matplotlib inline\n",
    "\n",
    "plt.figure()\n",
    "plt.plot(all_losses)"
   ]
  },
  {
   "cell_type": "markdown",
   "metadata": {},
   "source": [
    "# Evaluating at different \"temperatures\""
   ]
  },
  {
   "cell_type": "code",
   "execution_count": 13,
   "metadata": {
    "collapsed": false
   },
   "outputs": [
    {
     "name": "stdout",
     "output_type": "stream",
     "text": [
      "Thy she forthard,\n",
      "In you ster, do and lodges, of'll your han there so, own\n",
      "in a where she cheres ince gorer'd'n is, it it of ance herew.\n",
      "\n",
      "GNUS:\n",
      "Yre's on man you lorgs and is here;\n",
      "Yought wooker's of the\n"
     ]
    }
   ],
   "source": [
    "print(evaluate('Th', 200, temperature=0.8))"
   ]
  },
  {
   "cell_type": "code",
   "execution_count": 14,
   "metadata": {
    "collapsed": false
   },
   "outputs": [
    {
     "name": "stdout",
     "output_type": "stream",
     "text": [
      "This with the should so some.\n",
      "\n",
      "CORIOLANUS:\n",
      "I word the so the here your some with the so court.\n",
      "\n",
      "CORIOLANUS:\n",
      "I with the so the so and with the mante shall the so the word the here.\n",
      "\n",
      "CORIOLANUS:\n",
      "I with th\n"
     ]
    }
   ],
   "source": [
    "print(evaluate('Th', 200, temperature=0.2))"
   ]
  },
  {
   "cell_type": "code",
   "execution_count": 15,
   "metadata": {
    "collapsed": false
   },
   "outputs": [
    {
     "name": "stdout",
     "output_type": "stream",
     "text": [
      "Thournok'; thoy,\n",
      "Musted! Witter''l?\n",
      "\n",
      "BlOs jours, fweir?, wlorgn:\n",
      "Gy, abmore sos yoo your:\n",
      "S the should no? Mikhiou.-B\n",
      "vooscomk is be\n",
      "Amail.\n",
      "\n",
      "CARUSTI:\n",
      "GOOwAMI RoUTUSLIUITG; wor'd, that's,\n",
      "BotcYem:\n",
      "amolat\n"
     ]
    }
   ],
   "source": [
    "print(evaluate('Th', 200, temperature=1.4))"
   ]
  },
  {
   "cell_type": "code",
   "execution_count": null,
   "metadata": {
    "collapsed": true
   },
   "outputs": [],
   "source": []
  }
 ],
 "metadata": {
  "anaconda-cloud": {},
  "kernelspec": {
   "display_name": "Python [conda root]",
   "language": "python",
   "name": "conda-root-py"
  },
  "language_info": {
   "codemirror_mode": {
    "name": "ipython",
    "version": 3
   },
   "file_extension": ".py",
   "mimetype": "text/x-python",
   "name": "python",
   "nbconvert_exporter": "python",
   "pygments_lexer": "ipython3",
   "version": "3.5.2"
  }
 },
 "nbformat": 4,
 "nbformat_minor": 1
}
